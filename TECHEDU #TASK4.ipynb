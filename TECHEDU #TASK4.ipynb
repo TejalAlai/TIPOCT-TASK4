{
 "cells": [
  {
   "cell_type": "code",
   "execution_count": 4,
   "id": "b99af23b",
   "metadata": {},
   "outputs": [
    {
     "name": "stdout",
     "output_type": "stream",
     "text": [
      "Collecting qrcode\n",
      "  Downloading qrcode-7.3.1.tar.gz (43 kB)\n",
      "Requirement already satisfied: colorama in c:\\programdata\\anaconda3\\lib\\site-packages (from qrcode) (0.4.4)\n",
      "Building wheels for collected packages: qrcode\n",
      "  Building wheel for qrcode (setup.py): started\n",
      "  Building wheel for qrcode (setup.py): finished with status 'done'\n",
      "  Created wheel for qrcode: filename=qrcode-7.3.1-py3-none-any.whl size=40385 sha256=597b7ec9adc5c6b7eabab0debcfbf256d4a0ad1d1026c5148823639060160c43\n",
      "  Stored in directory: c:\\users\\tejal\\appdata\\local\\pip\\cache\\wheels\\35\\fd\\04\\2768886c56207acee0d6dc6b9bd5d06dac63a810f0c0a42516\n",
      "Successfully built qrcode\n",
      "Installing collected packages: qrcode\n",
      "Successfully installed qrcode-7.3.1\n",
      "Note: you may need to restart the kernel to use updated packages.\n"
     ]
    }
   ],
   "source": [
    "pip install qrcode"
   ]
  },
  {
   "cell_type": "code",
   "execution_count": 8,
   "id": "496f3983",
   "metadata": {},
   "outputs": [],
   "source": [
    "import qrcode"
   ]
  },
  {
   "cell_type": "code",
   "execution_count": 9,
   "id": "c643a25f",
   "metadata": {},
   "outputs": [],
   "source": [
    "img = qrcode.make(\"https://linktr.ee/TechEdu\")"
   ]
  },
  {
   "cell_type": "code",
   "execution_count": 10,
   "id": "a44369f3",
   "metadata": {},
   "outputs": [],
   "source": [
    "img.save(\"techedu.jpg\")"
   ]
  },
  {
   "cell_type": "code",
   "execution_count": null,
   "id": "37a88c01",
   "metadata": {},
   "outputs": [],
   "source": []
  }
 ],
 "metadata": {
  "kernelspec": {
   "display_name": "Python 3",
   "language": "python",
   "name": "python3"
  },
  "language_info": {
   "codemirror_mode": {
    "name": "ipython",
    "version": 3
   },
   "file_extension": ".py",
   "mimetype": "text/x-python",
   "name": "python",
   "nbconvert_exporter": "python",
   "pygments_lexer": "ipython3",
   "version": "3.8.8"
  }
 },
 "nbformat": 4,
 "nbformat_minor": 5
}
